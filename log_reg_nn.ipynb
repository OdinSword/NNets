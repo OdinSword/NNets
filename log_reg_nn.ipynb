{
 "cells": [
  {
   "cell_type": "code",
   "execution_count": 297,
   "metadata": {},
   "outputs": [],
   "source": [
    "import numpy as np\n",
    "import matplotlib.pyplot as plt\n",
    "import h5py\n",
    "import scipy\n",
    "from PIL import Image\n",
    "from scipy import ndimage\n",
    "\n",
    "\n",
    "%matplotlib inline"
   ]
  },
  {
   "cell_type": "markdown",
   "metadata": {},
   "source": [
    "2 - Overview of the Problem set Problem Statement: You are given a dataset (\"data.h5\") containing:\n",
    "\n",
    "a training set of m_train images labeled as cat (y=1) or non-cat (y=0)\n",
    "a test set of m_test images labeled as cat or non-cat\n",
    "each image is of shape (num_px, num_px, 3) where 3 is for the 3 channels (RGB). Thus, each image is square (height = num_px) and (width = num_px).\n",
    "You will build a simple image-recognition algorithm that can correctly classify pictures as cat or non-cat.\n",
    "\n",
    "Let's get more familiar with the dataset. Load the data by running the following code."
   ]
  },
  {
   "cell_type": "code",
   "execution_count": 298,
   "metadata": {},
   "outputs": [],
   "source": [
    "def load_dataset():\n",
    "    with h5py.File('F:/chirps/catvnoncat/train_catvnoncat.h5', \"r\") as train_dataset:\n",
    "        train_set_x_orig = np.array(train_dataset[\"train_set_x\"][:])\n",
    "        train_set_y_orig = np.array(train_dataset[\"train_set_y\"][:])\n",
    "\n",
    "    with h5py.File('F:/chirps/catvnoncat/test_catvnoncat.h5', \"r\") as test_dataset:\n",
    "        test_set_x_orig = np.array(test_dataset[\"test_set_x\"][:])\n",
    "        test_set_y_orig = np.array(test_dataset[\"test_set_y\"][:])\n",
    "        classes = np.array(test_dataset[\"list_classes\"][:])\n",
    "\n",
    "    train_set_y_orig = train_set_y_orig.reshape((1, train_set_y_orig.shape[0]))\n",
    "    test_set_y_orig = test_set_y_orig.reshape((1, test_set_y_orig.shape[0]))\n",
    "\n",
    "    return train_set_x_orig, train_set_y_orig, test_set_x_orig, test_set_y_orig, classes"
   ]
  },
  {
   "cell_type": "code",
   "execution_count": 299,
   "metadata": {},
   "outputs": [],
   "source": [
    "# Loading the data (cat/non-cat)\n",
    "train_set_x_orig, train_set_y, test_set_x_orig, test_set_y, classes = load_dataset()"
   ]
  },
  {
   "cell_type": "markdown",
   "metadata": {},
   "source": [
    "We added \"orig\" at the end of image datasets (train and test) because we are going to preprocess them. After preprocessing, we will end up with trainset_x and test_set_x (the labels train_set_y and test_set_y don't need any preprocessing).\n",
    "\n",
    "Each line of your train_set_x_orig and test_set_x_orig is an array representing an image. You can visualize an example by running the following code. Feel free also to change the index value and re-run to see other images."
   ]
  },
  {
   "cell_type": "code",
   "execution_count": 300,
   "metadata": {},
   "outputs": [
    {
     "name": "stdout",
     "output_type": "stream",
     "text": [
      "y = [1], it's a 'cat' picture.\n"
     ]
    },
    {
     "data": {
      "image/png": "[encoded data removed]",
      "text/plain": [
       "<Figure size 432x288 with 1 Axes>"
      ]
     },
     "metadata": {
      "needs_background": "light"
     },
     "output_type": "display_data"
    }
   ],
   "source": [
    "# Example of a picture\n",
    "index = 11\n",
    "plt.imshow(train_set_x_orig[index])\n",
    "print (\"y = \" + str(train_set_y[:,index]) + \", it's a '\" + classes[np.squeeze(train_set_y[:,index])].decode(\"utf-8\") +  \"' picture.\")"
   ]
  },
  {
   "cell_type": "code",
   "execution_count": 301,
   "metadata": {},
   "outputs": [
    {
     "data": {
      "text/plain": [
       "(50, 64, 64, 3)"
      ]
     },
     "execution_count": 301,
     "metadata": {},
     "output_type": "execute_result"
    }
   ],
   "source": [
    "test_set_x_orig.shape"
   ]
  },
  {
   "cell_type": "code",
   "execution_count": 302,
   "metadata": {},
   "outputs": [],
   "source": [
    "nx = train_set_x_orig.shape[1]*train_set_x_orig.shape[2]*train_set_x_orig.shape[3]\n",
    "m = train_set_x_orig.shape[0]"
   ]
  },
  {
   "cell_type": "code",
   "execution_count": 313,
   "metadata": {},
   "outputs": [],
   "source": [
    "train_set_x = train_set_x_orig.reshape(nx,m)\n",
    "train_set_x = train_set_x / 255\n",
    "test_set_x = test_set_x_orig.reshape(nx,50)\n",
    "test_set_x = test_set_x / 255"
   ]
  },
  {
   "cell_type": "code",
   "execution_count": 314,
   "metadata": {},
   "outputs": [],
   "source": [
    "## Initializing w and b\n",
    "w = np.zeros(nx)\n",
    "z = np.zeros(m)\n",
    "b = 0"
   ]
  },
  {
   "cell_type": "code",
   "execution_count": 315,
   "metadata": {},
   "outputs": [
    {
     "name": "stdout",
     "output_type": "stream",
     "text": [
      "shape of train_set_x: (12288, 209)\n",
      "shape of w: (12288,)\n",
      "shape of z: (209,)\n"
     ]
    }
   ],
   "source": [
    "print(\"shape of train_set_x:\", train_set_x.shape)\n",
    "print(\"shape of w:\", w.shape)\n",
    "print(\"shape of z:\", z.shape)\n"
   ]
  },
  {
   "cell_type": "code",
   "execution_count": null,
   "metadata": {},
   "outputs": [],
   "source": []
  },
  {
   "cell_type": "code",
   "execution_count": 316,
   "metadata": {},
   "outputs": [],
   "source": [
    "def tanh(z):\n",
    "    temp = (np.exp(z)-np.exp(-z))/(np.exp(z)+np.exp(-z))\n",
    "    return temp;\n",
    "\n",
    "def sigmoid(z):\n",
    "    temp = 1/(1+np.exp(-z))\n",
    "    return temp;"
   ]
  },
  {
   "cell_type": "code",
   "execution_count": null,
   "metadata": {},
   "outputs": [],
   "source": []
  },
  {
   "cell_type": "markdown",
   "metadata": {},
   "source": [
    "J = 0\n",
    "dw = np.zeros(nx)\n",
    "db = 0\n",
    "z = np.dot(w.T,train_set_x)+b\n",
    "a = 1/(1+np.exp(-z))\n",
    "J = J + np.sum(-train_set_y*np.log(a) - (1-train_set_y)*np.log(1-a))\n",
    "dz = a - train_set_y\n",
    "dw = dw + np.dot(train_set_x, dz.T).T\n",
    "db = db + dz\n",
    "J = J/m\n",
    "dw = dw/m\n",
    "db = db/m\n",
    "\n",
    "w = w - 0.15*dw\n",
    "b = b - 0.15*db"
   ]
  },
  {
   "cell_type": "code",
   "execution_count": 317,
   "metadata": {},
   "outputs": [
    {
     "data": {
      "text/plain": [
       "(12288,)"
      ]
     },
     "execution_count": 317,
     "metadata": {},
     "output_type": "execute_result"
    }
   ],
   "source": [
    "w.shape"
   ]
  },
  {
   "cell_type": "code",
   "execution_count": 318,
   "metadata": {},
   "outputs": [
    {
     "data": {
      "text/plain": [
       "(12288, 209)"
      ]
     },
     "execution_count": 318,
     "metadata": {},
     "output_type": "execute_result"
    }
   ],
   "source": [
    "train_set_x.shape"
   ]
  },
  {
   "cell_type": "code",
   "execution_count": null,
   "metadata": {},
   "outputs": [],
   "source": []
  },
  {
   "cell_type": "code",
   "execution_count": null,
   "metadata": {},
   "outputs": [],
   "source": []
  },
  {
   "cell_type": "code",
   "execution_count": 319,
   "metadata": {},
   "outputs": [
    {
     "name": "stdout",
     "output_type": "stream",
     "text": [
      "value of J with 0  iternation:  0.6931471805599453\n",
      "value of J with 100  iternation:  0.7097263623007752\n",
      "value of J with 200  iternation:  0.6577119065270963\n",
      "value of J with 300  iternation:  0.6146107943572359\n",
      "value of J with 400  iternation:  0.5780007284635371\n",
      "value of J with 500  iternation:  0.5463715182209924\n",
      "value of J with 600  iternation:  0.5183312353161215\n",
      "value of J with 700  iternation:  0.4928515102320145\n",
      "value of J with 800  iternation:  0.46925927021378894\n",
      "value of J with 900  iternation:  0.44713858237057064\n",
      "value of J with 1000  iternation:  0.4262622837237729\n",
      "value of J with 1100  iternation:  0.4066165678579391\n",
      "value of J with 1200  iternation:  0.38872327164259224\n",
      "value of J with 1300  iternation:  0.37467754434882167\n",
      "value of J with 1400  iternation:  0.3658260849763739\n",
      "value of J with 1500  iternation:  0.35853187114368096\n",
      "value of J with 1600  iternation:  0.35161190216779875\n",
      "value of J with 1700  iternation:  0.34501222559297523\n",
      "value of J with 1800  iternation:  0.3387043873916004\n",
      "value of J with 1900  iternation:  0.33266414494094027\n",
      "Time taken:  6238.759756088257 ms\n"
     ]
    }
   ],
   "source": [
    "## Using the gradient descent algo iteration 100 times. and taking learning rate = 0.15\n",
    "import time\n",
    "alpha = 0.005\n",
    "\n",
    "start = time.time()\n",
    "for i in range(0,2000):\n",
    "    J = 0\n",
    "    dw = np.zeros(nx)\n",
    "    db = 0\n",
    "    z = np.dot(w,train_set_x)+b\n",
    "    a = sigmoid(z)\n",
    "    J = np.sum(-train_set_y*np.log(a) - (1-train_set_y)*np.log(1-a))\n",
    "    dz = a - train_set_y\n",
    "    dw = dw + np.dot(train_set_x, dz.T).T\n",
    "    db = np.sum(dz)\n",
    "    J = J/m\n",
    "    dw = dw/m\n",
    "    db = db/m\n",
    "\n",
    "    w = w - alpha*dw\n",
    "    b = b - alpha*db\n",
    "    \n",
    "    if(i%100==0):\n",
    "        print(\"value of J with\",i, \" iternation: \", J )\n",
    "end = time.time()\n",
    "\n",
    "print(\"Time taken: \" , 1000*(end-start), \"ms\")"
   ]
  },
  {
   "cell_type": "code",
   "execution_count": 320,
   "metadata": {},
   "outputs": [],
   "source": [
    "## Defining a prediction fucntion\n",
    "\n",
    "def predict(w,b,X):\n",
    "    \n",
    "    z = np.dot(w,X) + b\n",
    "    a = sigmoid(z)\n",
    "    y = 0*(a<=0.5)+1*(a>0.5)\n",
    "    assert(y.shape == (1, X.shape[1]))\n",
    "    return y"
   ]
  },
  {
   "cell_type": "code",
   "execution_count": 321,
   "metadata": {},
   "outputs": [
    {
     "name": "stdout",
     "output_type": "stream",
     "text": [
      "train accuracy: 91.38755980861244 %\n"
     ]
    }
   ],
   "source": [
    "y_pred = predict(w,b, train_set_x)\n",
    "print(\"train accuracy: {} %\".format(100 - np.mean(np.abs(y_pred - train_set_y)) * 100))\n"
   ]
  },
  {
   "cell_type": "code",
   "execution_count": 322,
   "metadata": {},
   "outputs": [
    {
     "name": "stdout",
     "output_type": "stream",
     "text": [
      "train accuracy: 34.0 %\n"
     ]
    }
   ],
   "source": [
    "y_pred_test = predict(w,b, test_set_x)\n",
    "print(\"train accuracy: {} %\".format(100 - np.mean(np.abs(y_pred_test - test_set_y)) * 100))"
   ]
  },
  {
   "cell_type": "code",
   "execution_count": null,
   "metadata": {},
   "outputs": [],
   "source": []
  },
  {
   "cell_type": "code",
   "execution_count": null,
   "metadata": {},
   "outputs": [],
   "source": []
  },
  {
   "cell_type": "code",
   "execution_count": null,
   "metadata": {},
   "outputs": [],
   "source": []
  },
  {
   "cell_type": "code",
   "execution_count": null,
   "metadata": {},
   "outputs": [],
   "source": []
  }
 ],
 "metadata": {
  "kernelspec": {
   "display_name": "Python 3",
   "language": "python",
   "name": "python3"
  },
  "language_info": {
   "codemirror_mode": {
    "name": "ipython",
    "version": 3
   },
   "file_extension": ".py",
   "mimetype": "text/x-python",
   "name": "python",
   "nbconvert_exporter": "python",
   "pygments_lexer": "ipython3",
   "version": "3.7.1"
  }
 },
 "nbformat": 4,
 "nbformat_minor": 2
}
