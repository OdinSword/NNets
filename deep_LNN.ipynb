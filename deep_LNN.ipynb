{
 "cells": [
  {
   "cell_type": "code",
   "execution_count": 1,
   "metadata": {},
   "outputs": [],
   "source": [
    "import numpy as np\n",
    "import matplotlib.pyplot as plt\n",
    "import h5py\n",
    "import scipy\n",
    "from PIL import Image\n",
    "from scipy import ndimage\n",
    "\n",
    "\n",
    "%matplotlib inline"
   ]
  },
  {
   "cell_type": "markdown",
   "metadata": {},
   "source": [
    "2 - Overview of the Problem set Problem Statement: You are given a dataset (\"data.h5\") containing:\n",
    "\n",
    "a training set of m_train images labeled as cat (y=1) or non-cat (y=0) a test set of m_test images labeled as cat or non-cat each image is of shape (num_px, num_px, 3) where 3 is for the 3 channels (RGB). Thus, each image is square (height = num_px) and (width = num_px). You will build a simple image-recognition algorithm that can correctly classify pictures as cat or non-cat.\n",
    "\n",
    "Let's get more familiar with the dataset. Load the data by running the following code."
   ]
  },
  {
   "cell_type": "code",
   "execution_count": 2,
   "metadata": {},
   "outputs": [],
   "source": [
    "def load_dataset():\n",
    "    with h5py.File('F:/chirps/catvnoncat/train_catvnoncat.h5', \"r\") as train_dataset:\n",
    "        train_set_x_orig = np.array(train_dataset[\"train_set_x\"][:])\n",
    "        train_set_y_orig = np.array(train_dataset[\"train_set_y\"][:])\n",
    "\n",
    "    with h5py.File('F:/chirps/catvnoncat/test_catvnoncat.h5', \"r\") as test_dataset:\n",
    "        test_set_x_orig = np.array(test_dataset[\"test_set_x\"][:])\n",
    "        test_set_y_orig = np.array(test_dataset[\"test_set_y\"][:])\n",
    "        classes = np.array(test_dataset[\"list_classes\"][:])\n",
    "\n",
    "    train_set_y_orig = train_set_y_orig.reshape((1, train_set_y_orig.shape[0]))\n",
    "    test_set_y_orig = test_set_y_orig.reshape((1, test_set_y_orig.shape[0]))\n",
    "\n",
    "    return train_set_x_orig, train_set_y_orig, test_set_x_orig, test_set_y_orig, classes"
   ]
  },
  {
   "cell_type": "code",
   "execution_count": 3,
   "metadata": {},
   "outputs": [],
   "source": [
    "# Loading the data (cat/non-cat)\n",
    "train_set_x_orig, train_set_y, test_set_x_orig, test_set_y, classes = load_dataset()"
   ]
  },
  {
   "cell_type": "markdown",
   "metadata": {},
   "source": [
    "We added \"orig\" at the end of image datasets (train and test) because we are going to preprocess them. After preprocessing, we will end up with trainset_x and test_set_x (the labels train_set_y and test_set_y don't need any preprocessing).\n",
    "\n",
    "Each line of your train_set_x_orig and test_set_x_orig is an array representing an image. You can visualize an example by running the following code. Feel free also to change the index value and re-run to see other images."
   ]
  },
  {
   "cell_type": "code",
   "execution_count": 4,
   "metadata": {},
   "outputs": [
    {
     "name": "stdout",
     "output_type": "stream",
     "text": [
      "y = [0], it's a 'non-cat' picture.\n"
     ]
    },
    {
     "data": {
      "image/png": "[encoded data removed]",
      "text/plain": [
       "<Figure size 432x288 with 1 Axes>"
      ]
     },
     "metadata": {
      "needs_background": "light"
     },
     "output_type": "display_data"
    }
   ],
   "source": [
    "# Example of a picture\n",
    "index = 6\n",
    "plt.imshow(train_set_x_orig[index])\n",
    "print (\"y = \" + str(train_set_y[:,index]) + \", it's a '\" + classes[np.squeeze(train_set_y[:,index])].decode(\"utf-8\") +  \"' picture.\")"
   ]
  },
  {
   "cell_type": "code",
   "execution_count": 5,
   "metadata": {},
   "outputs": [
    {
     "data": {
      "text/plain": [
       "(209, 64, 64, 3)"
      ]
     },
     "execution_count": 5,
     "metadata": {},
     "output_type": "execute_result"
    }
   ],
   "source": [
    "train_set_x_orig.shape"
   ]
  },
  {
   "cell_type": "code",
   "execution_count": 32,
   "metadata": {},
   "outputs": [],
   "source": [
    "nx = train_set_x_orig.shape[1]*train_set_x_orig.shape[2]*train_set_x_orig.shape[3]\n",
    "m = train_set_x_orig.shape[0]"
   ]
  },
  {
   "cell_type": "code",
   "execution_count": 33,
   "metadata": {},
   "outputs": [],
   "source": [
    "mean_train = np.mean(train_set_x_orig, axis = 0, keepdims = True)\n",
    "std_train = np.std(train_set_x_orig, axis = 0, keepdims = True)\n",
    "train_set_x = (train_set_x_orig - mean_train) / std_train\n",
    "test_set_x = (test_set_x_orig - mean_train) / std_train"
   ]
  },
  {
   "cell_type": "code",
   "execution_count": 34,
   "metadata": {},
   "outputs": [],
   "source": [
    "train_set_x = train_set_x.reshape(nx,m)\n",
    "test_set_x = test_set_x.reshape(nx,50)"
   ]
  },
  {
   "cell_type": "code",
   "execution_count": null,
   "metadata": {},
   "outputs": [],
   "source": []
  },
  {
   "cell_type": "code",
   "execution_count": null,
   "metadata": {},
   "outputs": [],
   "source": []
  },
  {
   "cell_type": "code",
   "execution_count": 37,
   "metadata": {},
   "outputs": [],
   "source": [
    "##Defining Activation functions \n",
    "def tanh(z):\n",
    "    temp = (np.exp(z)-np.exp(-z))/(np.exp(z)+np.exp(-z))\n",
    "    return temp;\n",
    "\n",
    "def sigmoid(z):\n",
    "    temp = 1/(1+np.exp(-z))\n",
    "    return temp;\n",
    "\n",
    "def leaky_relu(z):\n",
    "    temp = (0.01*z)*(z<0)+z*(z>=0)\n",
    "    return temp\n",
    "\n",
    "def relu(z):\n",
    "    temp = np.maximum(0,z)\n",
    "    return temp"
   ]
  },
  {
   "cell_type": "code",
   "execution_count": 38,
   "metadata": {},
   "outputs": [],
   "source": [
    "## Derivatives of Activation function\n",
    "def grad_tanh(z):\n",
    "    temp = 1 - tanh(z)*tanh(z)\n",
    "    return temp\n",
    "\n",
    "def grad_sigmoid(z):\n",
    "    temp = sigmoid(z)*(1-sigmoid(z))\n",
    "    return temp\n",
    "\n",
    "def grad_leaky_relu(z):\n",
    "    temp = 0.01*(z<0)+1*(z>=0)\n",
    "    return temp\n",
    "\n",
    "def grad_relu(z):\n",
    "    temp = 0*(z<0)+1*(z>=0)\n",
    "    return temp"
   ]
  },
  {
   "cell_type": "code",
   "execution_count": 39,
   "metadata": {},
   "outputs": [],
   "source": [
    "## Initialize parameters as total number of layers\n",
    "def initialize_param(L,nx,m):\n",
    "    x = []\n",
    "    y = [0]\n",
    "    x.append(nx)\n",
    "    for i in range(L):\n",
    "        x.append(input())\n",
    "        y.append(input())\n",
    "    return L, x, m, y\n"
   ]
  },
  {
   "cell_type": "code",
   "execution_count": 40,
   "metadata": {},
   "outputs": [],
   "source": [
    "def parameters(L,x):\n",
    "    w = [0]\n",
    "    b = [0]\n",
    "    for i in range(1,L+1):\n",
    "        temp1 = np.random.randn(int(x[i-1]),int(x[i]))*0.01\n",
    "        w.append(temp1)\n",
    "        temp2 = np.zeros((int(x[i]),1))\n",
    "        b.append(temp2)\n",
    "        \n",
    "    return w,b"
   ]
  },
  {
   "cell_type": "code",
   "execution_count": null,
   "metadata": {},
   "outputs": [],
   "source": []
  },
  {
   "cell_type": "code",
   "execution_count": 41,
   "metadata": {},
   "outputs": [],
   "source": [
    "##Forward Propagation step\n",
    "def fwd_prop(L, w, b, training_x, y):\n",
    "    z = [0]\n",
    "    a = []\n",
    "    a.append(training_x)\n",
    "    for i in  range(1,L+1):\n",
    "        temp1 = np.dot(w[i].T,a[i-1])+b[i]\n",
    "        z.append(temp1)\n",
    "        if(i!=L):\n",
    "            temp3 = relu(z[i])\n",
    "            \n",
    "        \n",
    "        else: \n",
    "            temp3 = sigmoid(z[i])\n",
    "        a.append(temp3)\n",
    "        \n",
    "    return a,z"
   ]
  },
  {
   "cell_type": "code",
   "execution_count": null,
   "metadata": {},
   "outputs": [],
   "source": []
  },
  {
   "cell_type": "code",
   "execution_count": null,
   "metadata": {},
   "outputs": [],
   "source": []
  },
  {
   "cell_type": "code",
   "execution_count": 42,
   "metadata": {},
   "outputs": [],
   "source": [
    "## Calculating cost funtion\n",
    "def cost_fn(Y, a, m, L):\n",
    "    \n",
    "    temp =  -1*(Y*np.log(a[L])+(1-Y)*np.log(1-a[L]))\n",
    "    cost = np.sum(temp)/m\n",
    "    \n",
    "    return cost"
   ]
  },
  {
   "cell_type": "code",
   "execution_count": null,
   "metadata": {},
   "outputs": [],
   "source": []
  },
  {
   "cell_type": "code",
   "execution_count": 43,
   "metadata": {},
   "outputs": [],
   "source": [
    "##backpropagartion step\n",
    "def back_prop(L, x, m, w, b, a, z, y, Y_train):\n",
    "    dz = [0]\n",
    "    dw = [0]\n",
    "    db = [0]\n",
    "    \n",
    "    for i in range(1,L+1):\n",
    "        dz.append(np.zeros((z[i].shape)))\n",
    "        dw.append(np.zeros((w[i].shape)))\n",
    "        db.append(np.zeros((b[i].shape)))\n",
    "        \n",
    "    dz[L] = a[L] - Y_train\n",
    "   \n",
    "    for i in range(L,0,-1):\n",
    "       \n",
    "            \n",
    "        dz[i-1] = np.dot(w[i], dz[i]) * grad_relu(z[i-1])\n",
    "                \n",
    "        dw[i] = (1/m)*np.dot(a[i-1], dz[i].T)\n",
    "        db[i] = (1/m)*np.sum(dz[i], axis=1, keepdims=True)\n",
    "        \n",
    "        assert(dw[i].shape == w[i].shape)\n",
    "        assert(db[i].shape == b[i].shape)\n",
    "    return dz, dw, db"
   ]
  },
  {
   "cell_type": "code",
   "execution_count": null,
   "metadata": {},
   "outputs": [],
   "source": []
  },
  {
   "cell_type": "code",
   "execution_count": 44,
   "metadata": {},
   "outputs": [],
   "source": [
    "## updating the calculated parameters\n",
    "##here alpha = learning rate\n",
    "def update_param(w, b, dw, db, L, alpha):\n",
    "    \n",
    "    for i in  range(1,L+1):\n",
    "        w[i] = w[i] - alpha * dw[i]\n",
    "        b[i] = b[i] - alpha * db[i]\n",
    "        \n",
    "    return w, b"
   ]
  },
  {
   "cell_type": "code",
   "execution_count": null,
   "metadata": {},
   "outputs": [],
   "source": []
  },
  {
   "cell_type": "code",
   "execution_count": 47,
   "metadata": {},
   "outputs": [],
   "source": [
    "## defining the model to run\n",
    "def model(X_train, Y_train, L, alpha, num_iterations):\n",
    "    L, x, m, y = initialize_param(3, X_train.shape[0], X_train.shape[1])\n",
    "    w, b = parameters(L,x)\n",
    "    \n",
    "    for i in range(num_iterations):\n",
    "        a, z = fwd_prop(L, w, b , X_train, y)\n",
    "        cost = cost_fn(Y_train, a, m, L)\n",
    "        dz, dw, db = back_prop(L, x, m, w, b, a, z, y, Y_train)\n",
    "        w, b = update_param(w, b, dw, db, L, alpha)\n",
    "        ##if(i%100==0):\n",
    "            ##print(\"value of cost with\",i, \" iternation: \", cost)\n",
    "        \n",
    "       \n",
    "    return w, b, cost"
   ]
  },
  {
   "cell_type": "code",
   "execution_count": 48,
   "metadata": {},
   "outputs": [
    {
     "name": "stdout",
     "output_type": "stream",
     "text": [
      "5\n",
      "r\n",
      "3\n",
      "r\n",
      "1\n",
      "s\n",
      "Cost with learning rate=  0.002  =  0.646774021239727\n",
      "5\n",
      "t\n",
      "3\n",
      "f\n",
      "1\n",
      "d\n",
      "Cost with learning rate=  0.004  =  0.6441511861667162\n",
      "5\n",
      "r\n",
      "3\n",
      "r\n",
      "1\n",
      "s\n",
      "Cost with learning rate=  0.008  =  0.6120112834331415\n",
      "5\n",
      "r\n",
      "3\n",
      "r\n",
      "1\n",
      "s\n",
      "Cost with learning rate=  0.016  =  0.24007767476145192\n",
      "5\n",
      "r\n",
      "3\n",
      "r\n",
      "1\n",
      "s\n",
      "Cost with learning rate=  0.032  =  0.19989683447674134\n",
      "5\n",
      "r\n",
      "3\n",
      "r\n",
      "1\n",
      "s\n",
      "Cost with learning rate=  0.064  =  0.26490070636642454\n",
      "5\n",
      "r\n",
      "3\n",
      "r\n",
      "1\n",
      "s\n",
      "Cost with learning rate=  0.128  =  0.6424508972746097\n",
      "5\n",
      "r\n",
      "3\n",
      "r\n",
      "1\n",
      "s\n",
      "Cost with learning rate=  0.256  =  0.427532549622923\n",
      "5\n",
      "r\n",
      "3\n",
      "r\n",
      "1\n",
      "s\n",
      "Cost with learning rate=  0.512  =  0.6439737380528058\n",
      "5\n",
      "r\n",
      "3\n",
      "r\n",
      "1\n",
      "s\n",
      "Cost with learning rate=  1.024  =  0.6439737380528056\n",
      "5\n",
      "r\n",
      "3\n",
      "r\n",
      "1\n",
      "s\n",
      "Cost with learning rate=  2.048  =  0.6439737380528058\n",
      "5\n",
      "r\n",
      "3\n",
      "t\n",
      "1\n",
      "s\n",
      "Cost with learning rate=  4.096  =  0.6439737380528059\n"
     ]
    }
   ],
   "source": [
    "l_rate = [0.002]\n",
    "cost_f = []\n",
    "for i in range(12):\n",
    "    w, b, cost = model(train_set_x, train_set_y, 3, l_rate[i], 3000)\n",
    "    print(\"Cost with learning rate= \", l_rate[i], \" = \", cost )\n",
    "    cost_f.append(cost)\n",
    "    temp = l_rate[i]*2\n",
    "    l_rate.append(temp)"
   ]
  },
  {
   "cell_type": "code",
   "execution_count": null,
   "metadata": {},
   "outputs": [],
   "source": []
  },
  {
   "cell_type": "code",
   "execution_count": 54,
   "metadata": {},
   "outputs": [
    {
     "data": {
      "text/plain": [
       "[<matplotlib.lines.Line2D at 0x1f4b290ef60>]"
      ]
     },
     "execution_count": 54,
     "metadata": {},
     "output_type": "execute_result"
    },
    {
     "data": {
      "image/png": "[encoded data removed]",
      "text/plain": [
       "<Figure size 432x288 with 1 Axes>"
      ]
     },
     "metadata": {
      "needs_background": "light"
     },
     "output_type": "display_data"
    }
   ],
   "source": [
    "plt.plot(np.log(l_rate[0:12]), cost_f)"
   ]
  },
  {
   "cell_type": "code",
   "execution_count": null,
   "metadata": {},
   "outputs": [],
   "source": []
  },
  {
   "cell_type": "code",
   "execution_count": null,
   "metadata": {},
   "outputs": [],
   "source": []
  },
  {
   "cell_type": "code",
   "execution_count": null,
   "metadata": {},
   "outputs": [],
   "source": []
  },
  {
   "cell_type": "code",
   "execution_count": null,
   "metadata": {},
   "outputs": [],
   "source": []
  },
  {
   "cell_type": "code",
   "execution_count": 412,
   "metadata": {},
   "outputs": [
    {
     "name": "stdout",
     "output_type": "stream",
     "text": [
      "5\n",
      "r\n",
      "3\n",
      "r\n",
      "1\n",
      "s\n",
      "Cost with learning rate=  0.1  =  0.6439914363552786\n",
      "5\n",
      "r\n",
      "3\n",
      "r\n",
      "1\n",
      "s\n",
      "Cost with learning rate=  0.11  =  0.6439737380528059\n",
      "5\n",
      "r\n",
      "3\n",
      "r\n",
      "1\n",
      "s\n",
      "Cost with learning rate=  0.12  =  0.643973738052806\n",
      "s\n",
      "s\n",
      "s\n",
      "s\n",
      "s\n",
      "s\n"
     ]
    },
    {
     "ename": "ValueError",
     "evalue": "invalid literal for int() with base 10: 's'",
     "output_type": "error",
     "traceback": [
      "\u001b[1;31m---------------------------------------------------------------------------\u001b[0m",
      "\u001b[1;31mValueError\u001b[0m                                Traceback (most recent call last)",
      "\u001b[1;32m<ipython-input-412-0158dc245f18>\u001b[0m in \u001b[0;36m<module>\u001b[1;34m\u001b[0m\n\u001b[0;32m      2\u001b[0m \u001b[0mcost_f\u001b[0m \u001b[1;33m=\u001b[0m \u001b[1;33m[\u001b[0m\u001b[1;33m]\u001b[0m\u001b[1;33m\u001b[0m\u001b[1;33m\u001b[0m\u001b[0m\n\u001b[0;32m      3\u001b[0m \u001b[1;32mfor\u001b[0m \u001b[0mi\u001b[0m \u001b[1;32min\u001b[0m \u001b[0mrange\u001b[0m\u001b[1;33m(\u001b[0m\u001b[1;36m8\u001b[0m\u001b[1;33m)\u001b[0m\u001b[1;33m:\u001b[0m\u001b[1;33m\u001b[0m\u001b[1;33m\u001b[0m\u001b[0m\n\u001b[1;32m----> 4\u001b[1;33m     \u001b[0mw\u001b[0m\u001b[1;33m,\u001b[0m \u001b[0mb\u001b[0m\u001b[1;33m,\u001b[0m \u001b[0mcost\u001b[0m \u001b[1;33m=\u001b[0m \u001b[0mmodel\u001b[0m\u001b[1;33m(\u001b[0m\u001b[0mtrain_set_x\u001b[0m\u001b[1;33m,\u001b[0m \u001b[0mtrain_set_y\u001b[0m\u001b[1;33m,\u001b[0m \u001b[1;36m3\u001b[0m\u001b[1;33m,\u001b[0m \u001b[0ml_rate\u001b[0m\u001b[1;33m[\u001b[0m\u001b[0mi\u001b[0m\u001b[1;33m]\u001b[0m\u001b[1;33m,\u001b[0m \u001b[1;36m2500\u001b[0m\u001b[1;33m)\u001b[0m\u001b[1;33m\u001b[0m\u001b[1;33m\u001b[0m\u001b[0m\n\u001b[0m\u001b[0;32m      5\u001b[0m     \u001b[0mprint\u001b[0m\u001b[1;33m(\u001b[0m\u001b[1;34m\"Cost with learning rate= \"\u001b[0m\u001b[1;33m,\u001b[0m \u001b[0ml_rate\u001b[0m\u001b[1;33m[\u001b[0m\u001b[0mi\u001b[0m\u001b[1;33m]\u001b[0m\u001b[1;33m,\u001b[0m \u001b[1;34m\" = \"\u001b[0m\u001b[1;33m,\u001b[0m \u001b[0mcost\u001b[0m \u001b[1;33m)\u001b[0m\u001b[1;33m\u001b[0m\u001b[1;33m\u001b[0m\u001b[0m\n\u001b[0;32m      6\u001b[0m     \u001b[0mcost_f\u001b[0m\u001b[1;33m.\u001b[0m\u001b[0mappend\u001b[0m\u001b[1;33m(\u001b[0m\u001b[0mcost\u001b[0m\u001b[1;33m)\u001b[0m\u001b[1;33m\u001b[0m\u001b[1;33m\u001b[0m\u001b[0m\n",
      "\u001b[1;32m<ipython-input-409-649c70a03fc4>\u001b[0m in \u001b[0;36mmodel\u001b[1;34m(X_train, Y_train, L, alpha, num_iterations)\u001b[0m\n\u001b[0;32m      2\u001b[0m \u001b[1;32mdef\u001b[0m \u001b[0mmodel\u001b[0m\u001b[1;33m(\u001b[0m\u001b[0mX_train\u001b[0m\u001b[1;33m,\u001b[0m \u001b[0mY_train\u001b[0m\u001b[1;33m,\u001b[0m \u001b[0mL\u001b[0m\u001b[1;33m,\u001b[0m \u001b[0malpha\u001b[0m\u001b[1;33m,\u001b[0m \u001b[0mnum_iterations\u001b[0m\u001b[1;33m)\u001b[0m\u001b[1;33m:\u001b[0m\u001b[1;33m\u001b[0m\u001b[1;33m\u001b[0m\u001b[0m\n\u001b[0;32m      3\u001b[0m     \u001b[0mL\u001b[0m\u001b[1;33m,\u001b[0m \u001b[0mx\u001b[0m\u001b[1;33m,\u001b[0m \u001b[0mm\u001b[0m\u001b[1;33m,\u001b[0m \u001b[0my\u001b[0m \u001b[1;33m=\u001b[0m \u001b[0minitialize_param\u001b[0m\u001b[1;33m(\u001b[0m\u001b[1;36m3\u001b[0m\u001b[1;33m,\u001b[0m \u001b[0mX_train\u001b[0m\u001b[1;33m.\u001b[0m\u001b[0mshape\u001b[0m\u001b[1;33m[\u001b[0m\u001b[1;36m0\u001b[0m\u001b[1;33m]\u001b[0m\u001b[1;33m,\u001b[0m \u001b[0mX_train\u001b[0m\u001b[1;33m.\u001b[0m\u001b[0mshape\u001b[0m\u001b[1;33m[\u001b[0m\u001b[1;36m1\u001b[0m\u001b[1;33m]\u001b[0m\u001b[1;33m)\u001b[0m\u001b[1;33m\u001b[0m\u001b[1;33m\u001b[0m\u001b[0m\n\u001b[1;32m----> 4\u001b[1;33m     \u001b[0mw\u001b[0m\u001b[1;33m,\u001b[0m \u001b[0mb\u001b[0m \u001b[1;33m=\u001b[0m \u001b[0mparameters\u001b[0m\u001b[1;33m(\u001b[0m\u001b[0mL\u001b[0m\u001b[1;33m,\u001b[0m\u001b[0mx\u001b[0m\u001b[1;33m)\u001b[0m\u001b[1;33m\u001b[0m\u001b[1;33m\u001b[0m\u001b[0m\n\u001b[0m\u001b[0;32m      5\u001b[0m \u001b[1;33m\u001b[0m\u001b[0m\n\u001b[0;32m      6\u001b[0m     \u001b[1;32mfor\u001b[0m \u001b[0mi\u001b[0m \u001b[1;32min\u001b[0m \u001b[0mrange\u001b[0m\u001b[1;33m(\u001b[0m\u001b[0mnum_iterations\u001b[0m\u001b[1;33m)\u001b[0m\u001b[1;33m:\u001b[0m\u001b[1;33m\u001b[0m\u001b[1;33m\u001b[0m\u001b[0m\n",
      "\u001b[1;32m<ipython-input-304-e718891d08ce>\u001b[0m in \u001b[0;36mparameters\u001b[1;34m(L, x)\u001b[0m\n\u001b[0;32m      3\u001b[0m     \u001b[0mb\u001b[0m \u001b[1;33m=\u001b[0m \u001b[1;33m[\u001b[0m\u001b[1;36m0\u001b[0m\u001b[1;33m]\u001b[0m\u001b[1;33m\u001b[0m\u001b[1;33m\u001b[0m\u001b[0m\n\u001b[0;32m      4\u001b[0m     \u001b[1;32mfor\u001b[0m \u001b[0mi\u001b[0m \u001b[1;32min\u001b[0m \u001b[0mrange\u001b[0m\u001b[1;33m(\u001b[0m\u001b[1;36m1\u001b[0m\u001b[1;33m,\u001b[0m\u001b[0mL\u001b[0m\u001b[1;33m+\u001b[0m\u001b[1;36m1\u001b[0m\u001b[1;33m)\u001b[0m\u001b[1;33m:\u001b[0m\u001b[1;33m\u001b[0m\u001b[1;33m\u001b[0m\u001b[0m\n\u001b[1;32m----> 5\u001b[1;33m         \u001b[0mtemp1\u001b[0m \u001b[1;33m=\u001b[0m \u001b[0mnp\u001b[0m\u001b[1;33m.\u001b[0m\u001b[0mrandom\u001b[0m\u001b[1;33m.\u001b[0m\u001b[0mrandn\u001b[0m\u001b[1;33m(\u001b[0m\u001b[0mint\u001b[0m\u001b[1;33m(\u001b[0m\u001b[0mx\u001b[0m\u001b[1;33m[\u001b[0m\u001b[0mi\u001b[0m\u001b[1;33m-\u001b[0m\u001b[1;36m1\u001b[0m\u001b[1;33m]\u001b[0m\u001b[1;33m)\u001b[0m\u001b[1;33m,\u001b[0m\u001b[0mint\u001b[0m\u001b[1;33m(\u001b[0m\u001b[0mx\u001b[0m\u001b[1;33m[\u001b[0m\u001b[0mi\u001b[0m\u001b[1;33m]\u001b[0m\u001b[1;33m)\u001b[0m\u001b[1;33m)\u001b[0m\u001b[1;33m*\u001b[0m\u001b[1;36m0.01\u001b[0m\u001b[1;33m\u001b[0m\u001b[1;33m\u001b[0m\u001b[0m\n\u001b[0m\u001b[0;32m      6\u001b[0m         \u001b[0mw\u001b[0m\u001b[1;33m.\u001b[0m\u001b[0mappend\u001b[0m\u001b[1;33m(\u001b[0m\u001b[0mtemp1\u001b[0m\u001b[1;33m)\u001b[0m\u001b[1;33m\u001b[0m\u001b[1;33m\u001b[0m\u001b[0m\n\u001b[0;32m      7\u001b[0m         \u001b[0mtemp2\u001b[0m \u001b[1;33m=\u001b[0m \u001b[0mnp\u001b[0m\u001b[1;33m.\u001b[0m\u001b[0mzeros\u001b[0m\u001b[1;33m(\u001b[0m\u001b[1;33m(\u001b[0m\u001b[0mint\u001b[0m\u001b[1;33m(\u001b[0m\u001b[0mx\u001b[0m\u001b[1;33m[\u001b[0m\u001b[0mi\u001b[0m\u001b[1;33m]\u001b[0m\u001b[1;33m)\u001b[0m\u001b[1;33m,\u001b[0m\u001b[1;36m1\u001b[0m\u001b[1;33m)\u001b[0m\u001b[1;33m)\u001b[0m\u001b[1;33m\u001b[0m\u001b[1;33m\u001b[0m\u001b[0m\n",
      "\u001b[1;31mValueError\u001b[0m: invalid literal for int() with base 10: 's'"
     ]
    }
   ],
   "source": [
    "l_rate = [0.1]\n",
    "cost_f = []\n",
    "for i in range(8):\n",
    "    w, b, cost = model(train_set_x, train_set_y, 3, l_rate[i], 2500)\n",
    "    print(\"Cost with learning rate= \", l_rate[i], \" = \", cost )\n",
    "    cost_f.append(cost)\n",
    "    temp = l_rate[i]+0.01\n",
    "    l_rate.append(temp)"
   ]
  },
  {
   "cell_type": "code",
   "execution_count": null,
   "metadata": {},
   "outputs": [],
   "source": []
  },
  {
   "cell_type": "code",
   "execution_count": null,
   "metadata": {},
   "outputs": [],
   "source": []
  },
  {
   "cell_type": "code",
   "execution_count": null,
   "metadata": {},
   "outputs": [],
   "source": []
  },
  {
   "cell_type": "code",
   "execution_count": null,
   "metadata": {},
   "outputs": [],
   "source": []
  },
  {
   "cell_type": "code",
   "execution_count": null,
   "metadata": {},
   "outputs": [],
   "source": []
  },
  {
   "cell_type": "code",
   "execution_count": null,
   "metadata": {},
   "outputs": [],
   "source": []
  },
  {
   "cell_type": "code",
   "execution_count": null,
   "metadata": {},
   "outputs": [],
   "source": []
  },
  {
   "cell_type": "code",
   "execution_count": null,
   "metadata": {},
   "outputs": [],
   "source": []
  },
  {
   "cell_type": "code",
   "execution_count": null,
   "metadata": {},
   "outputs": [],
   "source": []
  },
  {
   "cell_type": "code",
   "execution_count": null,
   "metadata": {},
   "outputs": [],
   "source": []
  },
  {
   "cell_type": "code",
   "execution_count": null,
   "metadata": {},
   "outputs": [],
   "source": []
  },
  {
   "cell_type": "code",
   "execution_count": null,
   "metadata": {},
   "outputs": [],
   "source": []
  },
  {
   "cell_type": "code",
   "execution_count": null,
   "metadata": {},
   "outputs": [],
   "source": []
  },
  {
   "cell_type": "code",
   "execution_count": 331,
   "metadata": {},
   "outputs": [
    {
     "name": "stdout",
     "output_type": "stream",
     "text": [
      "7\n",
      "1\n",
      "1\n",
      "1\n",
      "Cost with learning rate=  0.0001  =  0.6586515649312624\n",
      "7\n",
      "1\n",
      "1\n",
      "1\n",
      "Cost with learning rate=  0.0002  =  0.638571756539597\n",
      "7\n",
      "r\n",
      "1\n",
      "s\n",
      "Cost with learning rate=  0.0004  =  0.6308372991490325\n",
      "7\n",
      "1\n",
      "1\n",
      "1\n",
      "Cost with learning rate=  0.0008  =  0.6053997469274883\n",
      "7\n",
      "1\n",
      "1\n",
      "1\n",
      "Cost with learning rate=  0.0016  =  0.5800697810337028\n",
      "7\n",
      "1\n",
      "1\n",
      "1\n",
      "Cost with learning rate=  0.0032  =  0.45557292464478766\n",
      "7\n",
      "1\n",
      "1\n",
      "1\n",
      "Cost with learning rate=  0.0064  =  0.4766757620460904\n",
      "7\n",
      "1\n",
      "1\n",
      "1\n",
      "Cost with learning rate=  0.0128  =  0.21081068948441797\n",
      "7\n",
      "1\n",
      "1\n",
      "1\n",
      "Cost with learning rate=  0.0256  =  0.3172871302565884\n",
      "7\n",
      "1\n",
      "1\n",
      "1\n",
      "Cost with learning rate=  0.0512  =  0.34925962816463446\n",
      "7\n",
      "1\n",
      "1\n",
      "1\n",
      "Cost with learning rate=  0.1024  =  0.6439737380528058\n",
      "7\n",
      "1\n",
      "1\n",
      "1\n",
      "Cost with learning rate=  0.2048  =  0.6439737380528059\n"
     ]
    }
   ],
   "source": [
    "l_rate = [0.0001]\n",
    "cost_f = []\n",
    "for i in range(12):\n",
    "    w, b, cost = model(train_set_x, train_set_y, 2, l_rate[i], 3000)\n",
    "    print(\"Cost with learning rate= \", l_rate[i], \" = \", cost )\n",
    "    cost_f.append(cost)\n",
    "    temp = l_rate[i]*2\n",
    "    l_rate.append(temp)"
   ]
  },
  {
   "cell_type": "code",
   "execution_count": null,
   "metadata": {},
   "outputs": [],
   "source": []
  },
  {
   "cell_type": "code",
   "execution_count": 337,
   "metadata": {},
   "outputs": [
    {
     "data": {
      "text/plain": [
       "[<matplotlib.lines.Line2D at 0x19f2fd60908>]"
      ]
     },
     "execution_count": 337,
     "metadata": {},
     "output_type": "execute_result"
    },
    {
     "data": {
      "image/png": "[encoded data removed]",
      "text/plain": [
       "<Figure size 432x288 with 1 Axes>"
      ]
     },
     "metadata": {
      "needs_background": "light"
     },
     "output_type": "display_data"
    }
   ],
   "source": [
    "plt.plot(l_rate[0:12], cost_f)"
   ]
  },
  {
   "cell_type": "code",
   "execution_count": null,
   "metadata": {},
   "outputs": [],
   "source": []
  },
  {
   "cell_type": "code",
   "execution_count": 339,
   "metadata": {},
   "outputs": [
    {
     "name": "stdout",
     "output_type": "stream",
     "text": [
      "7\n",
      "1\n",
      "1\n",
      "1\n",
      "Cost with learning rate=  0.01  =  0.19378081179582174\n",
      "7\n",
      "1\n",
      "1\n",
      "1\n",
      "Cost with learning rate=  0.012  =  0.16433064697752886\n",
      "7\n",
      "1\n",
      "1\n",
      "1\n",
      "Cost with learning rate=  0.014  =  0.5789041707593529\n",
      "7\n",
      "1\n",
      "1\n",
      "1\n",
      "Cost with learning rate=  0.016  =  0.17178771213885868\n",
      "7\n",
      "1\n",
      "1\n",
      "1\n",
      "Cost with learning rate=  0.018000000000000002  =  0.1673031173132758\n"
     ]
    }
   ],
   "source": [
    "l_rate = [0.01]\n",
    "cost_f = []\n",
    "for i in range(5):\n",
    "    w, b, cost = model(train_set_x, train_set_y, 2, l_rate[i], 3000)\n",
    "    print(\"Cost with learning rate= \", l_rate[i], \" = \", cost )\n",
    "    cost_f.append(cost)\n",
    "    temp = l_rate[i]+0.002\n",
    "    l_rate.append(temp)"
   ]
  },
  {
   "cell_type": "code",
   "execution_count": null,
   "metadata": {},
   "outputs": [],
   "source": []
  },
  {
   "cell_type": "code",
   "execution_count": 341,
   "metadata": {},
   "outputs": [
    {
     "data": {
      "text/plain": [
       "[<matplotlib.lines.Line2D at 0x19f2fb0d588>]"
      ]
     },
     "execution_count": 341,
     "metadata": {},
     "output_type": "execute_result"
    },
    {
     "data": {
      "image/png": "[encoded data removed]",
      "text/plain": [
       "<Figure size 432x288 with 1 Axes>"
      ]
     },
     "metadata": {
      "needs_background": "light"
     },
     "output_type": "display_data"
    }
   ],
   "source": [
    "plt.plot(l_rate[0:5], cost_f)"
   ]
  },
  {
   "cell_type": "code",
   "execution_count": null,
   "metadata": {},
   "outputs": [],
   "source": []
  },
  {
   "cell_type": "code",
   "execution_count": 407,
   "metadata": {},
   "outputs": [
    {
     "name": "stdout",
     "output_type": "stream",
     "text": [
      "7\n",
      "1\n",
      "1\n",
      "1\n"
     ]
    }
   ],
   "source": [
    "w, b, cost = model(train_set_x, train_set_y, 2, 0.0131, 3000)"
   ]
  },
  {
   "cell_type": "code",
   "execution_count": null,
   "metadata": {},
   "outputs": [],
   "source": []
  },
  {
   "cell_type": "code",
   "execution_count": 397,
   "metadata": {},
   "outputs": [
    {
     "data": {
      "text/plain": [
       "0.2118483411132191"
      ]
     },
     "execution_count": 397,
     "metadata": {},
     "output_type": "execute_result"
    }
   ],
   "source": [
    "cost"
   ]
  },
  {
   "cell_type": "code",
   "execution_count": null,
   "metadata": {},
   "outputs": [],
   "source": []
  },
  {
   "cell_type": "code",
   "execution_count": 398,
   "metadata": {},
   "outputs": [],
   "source": [
    "## Defining a prediction fucntion\n",
    "\n",
    "def predict(w ,b ,X, L):\n",
    "    \n",
    "    a, z = fwd_prop(L, w, b, X, y)\n",
    "    y_pred = 0*(a[L]<=0.5)+1*(a[L]>0.5)\n",
    "    \n",
    "    return y_pred"
   ]
  },
  {
   "cell_type": "code",
   "execution_count": null,
   "metadata": {},
   "outputs": [],
   "source": []
  },
  {
   "cell_type": "code",
   "execution_count": 399,
   "metadata": {},
   "outputs": [
    {
     "name": "stdout",
     "output_type": "stream",
     "text": [
      "train accuracy: 93.30143540669856 %\n"
     ]
    }
   ],
   "source": [
    "y_pred = predict(w, b, train_set_x)\n",
    "print(\"train accuracy: {} %\".format(100 - np.mean(np.abs(y_pred - train_set_y)) * 100))"
   ]
  },
  {
   "cell_type": "code",
   "execution_count": null,
   "metadata": {},
   "outputs": [],
   "source": []
  },
  {
   "cell_type": "code",
   "execution_count": 400,
   "metadata": {},
   "outputs": [
    {
     "name": "stdout",
     "output_type": "stream",
     "text": [
      "train accuracy: 42.00000000000001 %\n"
     ]
    }
   ],
   "source": [
    "y_pred_test = predict(w, b, test_set_x)\n",
    "print(\"train accuracy: {} %\".format(100 - np.mean(np.abs(y_pred_test - test_set_y)) * 100))"
   ]
  },
  {
   "cell_type": "code",
   "execution_count": null,
   "metadata": {},
   "outputs": [],
   "source": []
  },
  {
   "cell_type": "code",
   "execution_count": 403,
   "metadata": {},
   "outputs": [],
   "source": [
    "accuracy_train.append(\"train accuracy 2 layers iter=3000 alpha = 0.0129:{} %\".format(100 - np.mean(np.abs(y_pred - train_set_y)) * 100))"
   ]
  },
  {
   "cell_type": "code",
   "execution_count": 404,
   "metadata": {},
   "outputs": [],
   "source": [
    "accuracy_test.append(\"test accuracy 2 layers iter=3000 alpha = 0.0129: {} %\".format(100 - np.mean(np.abs(y_pred_test - test_set_y)) * 100))"
   ]
  },
  {
   "cell_type": "code",
   "execution_count": null,
   "metadata": {},
   "outputs": [],
   "source": []
  },
  {
   "cell_type": "code",
   "execution_count": 405,
   "metadata": {},
   "outputs": [
    {
     "data": {
      "text/plain": [
       "['train accuracy 2 layers iter=3000 alpha = 0.0016:97.60765550239235 %',\n",
       " 'train accuracy 2 layers iter=3000 alpha = 0.0016:90.43062200956938 %',\n",
       " 'train accuracy 2 layers iter=3000 alpha = 0.019:97.12918660287082 %',\n",
       " 'train accuracy 2 layers iter=3000 alpha = 0.019:93.30143540669856 %',\n",
       " 'train accuracy 2 layers iter=3000 alpha = 0.0129:93.30143540669856 %']"
      ]
     },
     "execution_count": 405,
     "metadata": {},
     "output_type": "execute_result"
    }
   ],
   "source": [
    "accuracy_train"
   ]
  },
  {
   "cell_type": "code",
   "execution_count": 406,
   "metadata": {},
   "outputs": [
    {
     "data": {
      "text/plain": [
       "['test accuracy 2 layers iter=3000 alpha = 0.0016: 64.0 %',\n",
       " 'test accuracy 2 layers iter=3000 alpha = 0.0016: 34.0 %',\n",
       " 'test accuracy 2 layers iter=3000 alpha = 0.019: 48.0 %',\n",
       " 'test accuracy 2 layers iter=3000 alpha = 0.019: 42.00000000000001 %',\n",
       " 'test accuracy 2 layers iter=3000 alpha = 0.0129: 42.00000000000001 %']"
      ]
     },
     "execution_count": 406,
     "metadata": {},
     "output_type": "execute_result"
    }
   ],
   "source": [
    "accuracy_test"
   ]
  },
  {
   "cell_type": "code",
   "execution_count": null,
   "metadata": {},
   "outputs": [],
   "source": []
  },
  {
   "cell_type": "code",
   "execution_count": null,
   "metadata": {},
   "outputs": [],
   "source": []
  },
  {
   "cell_type": "code",
   "execution_count": null,
   "metadata": {},
   "outputs": [],
   "source": []
  },
  {
   "cell_type": "code",
   "execution_count": null,
   "metadata": {},
   "outputs": [],
   "source": []
  },
  {
   "cell_type": "code",
   "execution_count": null,
   "metadata": {},
   "outputs": [],
   "source": [
    "##backpropagartion step\n",
    "def back_prop(L, x, m, w, b, a, z, y):\n",
    "    dz = [0]\n",
    "    dw = [0]\n",
    "    db = [0]\n",
    "    \n",
    "    for i in range(1,L+1):\n",
    "        dz.append(np.zeros((z[i].shape)))\n",
    "        dw.append(np.zeros((w[i].shape)))\n",
    "        db.append(np.zeros((b[i].shape)))\n",
    "        \n",
    "    dz[L] = a[L] - train_set_y\n",
    "    for i in range(L,0,-1):\n",
    "        if(i>1):\n",
    "            \n",
    "            dz[i-1] = np.dot(w[i], dz[i]) * grad_relu(z[i-1])\n",
    "                \n",
    "        dw[i] = (1/m)*np.dot(a[i-1], dz[i].T)\n",
    "        db[i] = (1/m)*np.sum(dz[i], axis=1, keepdims=True)\n",
    "        \n",
    "        assert(dw[i].shape == w[i].shape)\n",
    "        assert(db[i].shape == b[i].shape)\n",
    "    return dz, dw, db"
   ]
  },
  {
   "cell_type": "code",
   "execution_count": 332,
   "metadata": {},
   "outputs": [
    {
     "data": {
      "text/plain": [
       "0.8336546070121552"
      ]
     },
     "execution_count": 332,
     "metadata": {},
     "output_type": "execute_result"
    }
   ],
   "source": [
    "for i in range(L,0,-1):\n",
    "        if(i>1):\n",
    "            if(y[i]=='sigmoid'):\n",
    "                dz[i-1] = np.dot(w[i], dz[i]) * grad_sigmoid(z[i-1])\n",
    "                \n",
    "            if(y[i]=='tanh'):\n",
    "                dz[i-1] = np.dot(w[i], dz[i]) * grad_tanh(z[i-1])\n",
    "                \n",
    "            if(y[i]=='relu'):\n",
    "                dz[i-1] = np.dot(w[i], dz[i]) * grad_relu(z[i-1])\n",
    "                \n",
    "            else:\n",
    "                dz[i-1] = np.dot(w[i], dz[i]) * grad_leaky_relu(z[i-1])\n",
    "                \n",
    "        dw[i] = (1/m)*np.dot(a[i-1], dz[i].T)\n",
    "        db[i] = (1/m)*np.sum(dz[i], axis=1, keepdims=True)\n",
    "        "
   ]
  },
  {
   "cell_type": "code",
   "execution_count": null,
   "metadata": {},
   "outputs": [],
   "source": []
  },
  {
   "cell_type": "code",
   "execution_count": null,
   "metadata": {},
   "outputs": [],
   "source": [
    "L, x, m = initialize_param(4, train_set_x.shape[0], train_set_x.shape[1])\n",
    "w, b = parameters(L,x)\n",
    "a, z = fwd_prop(L, w, b , train_set_x)\n",
    "cost = cost_fn(train_set_y, a, m)\n",
    "dz, dw, db = back_prop(L, x, m, w, b, a, z)"
   ]
  },
  {
   "cell_type": "code",
   "execution_count": null,
   "metadata": {},
   "outputs": [],
   "source": []
  },
  {
   "cell_type": "code",
   "execution_count": null,
   "metadata": {},
   "outputs": [],
   "source": [
    "##Parameter no of hidden layer units \n",
    "def parameters(nh,nx):\n",
    "    w1 = np.random.randn(nh,nx)*0.001\n",
    "    b1 = np.zeros((nh,1))\n",
    "\n",
    "    w2 = np.random.randn(nh,1)*0.001\n",
    "    b2 = 0\n",
    "    return w1,b1,w2,b2"
   ]
  }
 ],
 "metadata": {
  "kernelspec": {
   "display_name": "Python 3",
   "language": "python",
   "name": "python3"
  },
  "language_info": {
   "codemirror_mode": {
    "name": "ipython",
    "version": 3
   },
   "file_extension": ".py",
   "mimetype": "text/x-python",
   "name": "python",
   "nbconvert_exporter": "python",
   "pygments_lexer": "ipython3",
   "version": "3.7.1"
  }
 },
 "nbformat": 4,
 "nbformat_minor": 2
}
