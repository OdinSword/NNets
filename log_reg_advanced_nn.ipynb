{
 "cells": [
  {
   "cell_type": "code",
   "execution_count": 694,
   "metadata": {},
   "outputs": [],
   "source": [
    "import numpy as np\n",
    "import matplotlib.pyplot as plt\n",
    "import h5py\n",
    "import scipy\n",
    "from PIL import Image\n",
    "from scipy import ndimage\n",
    "\n",
    "\n",
    "%matplotlib inline"
   ]
  },
  {
   "cell_type": "markdown",
   "metadata": {},
   "source": [
    "2 - Overview of the Problem set Problem Statement: You are given a dataset (\"data.h5\") containing:\n",
    "\n",
    "a training set of m_train images labeled as cat (y=1) or non-cat (y=0) a test set of m_test images labeled as cat or non-cat each image is of shape (num_px, num_px, 3) where 3 is for the 3 channels (RGB). Thus, each image is square (height = num_px) and (width = num_px). You will build a simple image-recognition algorithm that can correctly classify pictures as cat or non-cat.\n",
    "\n",
    "Let's get more familiar with the dataset. Load the data by running the following code."
   ]
  },
  {
   "cell_type": "code",
   "execution_count": 695,
   "metadata": {},
   "outputs": [],
   "source": [
    "def load_dataset():\n",
    "    with h5py.File('F:/chirps/catvnoncat/train_catvnoncat.h5', \"r\") as train_dataset:\n",
    "        train_set_x_orig = np.array(train_dataset[\"train_set_x\"][:])\n",
    "        train_set_y_orig = np.array(train_dataset[\"train_set_y\"][:])\n",
    "\n",
    "    with h5py.File('F:/chirps/catvnoncat/test_catvnoncat.h5', \"r\") as test_dataset:\n",
    "        test_set_x_orig = np.array(test_dataset[\"test_set_x\"][:])\n",
    "        test_set_y_orig = np.array(test_dataset[\"test_set_y\"][:])\n",
    "        classes = np.array(test_dataset[\"list_classes\"][:])\n",
    "\n",
    "    train_set_y_orig = train_set_y_orig.reshape((1, train_set_y_orig.shape[0]))\n",
    "    test_set_y_orig = test_set_y_orig.reshape((1, test_set_y_orig.shape[0]))\n",
    "\n",
    "    return train_set_x_orig, train_set_y_orig, test_set_x_orig, test_set_y_orig, classes"
   ]
  },
  {
   "cell_type": "code",
   "execution_count": 696,
   "metadata": {},
   "outputs": [],
   "source": [
    "# Loading the data (cat/non-cat)\n",
    "train_set_x_orig, train_set_y, test_set_x_orig, test_set_y, classes = load_dataset()"
   ]
  },
  {
   "cell_type": "markdown",
   "metadata": {},
   "source": [
    "We added \"orig\" at the end of image datasets (train and test) because we are going to preprocess them. After preprocessing, we will end up with trainset_x and test_set_x (the labels train_set_y and test_set_y don't need any preprocessing).\n",
    "\n",
    "Each line of your train_set_x_orig and test_set_x_orig is an array representing an image. You can visualize an example by running the following code. Feel free also to change the index value and re-run to see other images."
   ]
  },
  {
   "cell_type": "code",
   "execution_count": 697,
   "metadata": {},
   "outputs": [
    {
     "name": "stdout",
     "output_type": "stream",
     "text": [
      "y = [0], it's a 'non-cat' picture.\n"
     ]
    },
    {
     "data": {
      "image/png": "[encoded data removed]",
      "text/plain": [
       "<Figure size 432x288 with 1 Axes>"
      ]
     },
     "metadata": {
      "needs_background": "light"
     },
     "output_type": "display_data"
    }
   ],
   "source": [
    "# Example of a picture\n",
    "index = 9\n",
    "plt.imshow(train_set_x_orig[index])\n",
    "print (\"y = \" + str(train_set_y[:,index]) + \", it's a '\" + classes[np.squeeze(train_set_y[:,index])].decode(\"utf-8\") +  \"' picture.\")"
   ]
  },
  {
   "cell_type": "code",
   "execution_count": 698,
   "metadata": {},
   "outputs": [
    {
     "data": {
      "text/plain": [
       "(209, 64, 64, 3)"
      ]
     },
     "execution_count": 698,
     "metadata": {},
     "output_type": "execute_result"
    }
   ],
   "source": [
    "train_set_x_orig.shape"
   ]
  },
  {
   "cell_type": "code",
   "execution_count": 699,
   "metadata": {},
   "outputs": [],
   "source": [
    "nx = train_set_x_orig.shape[1]*train_set_x_orig.shape[2]*train_set_x_orig.shape[3]\n",
    "m = train_set_x_orig.shape[0]"
   ]
  },
  {
   "cell_type": "code",
   "execution_count": 700,
   "metadata": {},
   "outputs": [],
   "source": [
    "train_set_x = train_set_x_orig.reshape(nx,m)\n",
    "train_set_x = train_set_x / 255\n",
    "test_set_x = test_set_x_orig.reshape(nx,50)\n",
    "test_set_x = test_set_x / 255\n"
   ]
  },
  {
   "cell_type": "code",
   "execution_count": 701,
   "metadata": {},
   "outputs": [],
   "source": [
    "##Defining Activation functions \n",
    "def tanh(z):\n",
    "    temp = (np.exp(z)-np.exp(-z))/(np.exp(z)+np.exp(-z))\n",
    "    return temp;\n",
    "\n",
    "def sigmoid(z):\n",
    "    temp = 1/(1+np.exp(-z))\n",
    "    return temp;\n",
    "\n",
    "def leaky_relu(z):\n",
    "    temp = (0.01*z)*(z<0)+z*(z>=0)\n",
    "    return temp\n",
    "\n",
    "def relu(z):\n",
    "    temp = 0*(z<0)+z*(z>=0)\n",
    "    return temp"
   ]
  },
  {
   "cell_type": "code",
   "execution_count": 702,
   "metadata": {},
   "outputs": [],
   "source": [
    "## Derivatives of Activation function\n",
    "def grad_tanh(z):\n",
    "    temp = 1 - tanh(z)*tanh(z)\n",
    "    return temp\n",
    "\n",
    "def grad_sigmoid(z):\n",
    "    temp = sigmoid(z)*(1-sigmoid(z))\n",
    "    return temp\n",
    "\n",
    "def grad_leaky_relu(z):\n",
    "    temp = 0.01*(z<0)+1*(z>=0)\n",
    "    return temp\n",
    "\n",
    "def grad_relu(z):\n",
    "    temp = 0*(z<0)+1*(z>=0)\n",
    "    return temp"
   ]
  },
  {
   "cell_type": "code",
   "execution_count": 703,
   "metadata": {},
   "outputs": [],
   "source": [
    "##Parameter no of hidden layer units \n",
    "def parameters(nh,nx):\n",
    "    w1 = np.random.randn(nh,nx)*0.01\n",
    "    b1 = np.zeros((nh,1))\n",
    "\n",
    "    w2 = np.random.randn(nh,1)*0.01\n",
    "    b2 = 0\n",
    "    return w1,b1,w2,b2"
   ]
  },
  {
   "cell_type": "code",
   "execution_count": 704,
   "metadata": {},
   "outputs": [],
   "source": [
    "w1, w2, b1, b2 = parameters(6,nx)"
   ]
  },
  {
   "cell_type": "code",
   "execution_count": 705,
   "metadata": {},
   "outputs": [
    {
     "name": "stdout",
     "output_type": "stream",
     "text": [
      "value of J with 0  iternation:  0.6931471805599453\n",
      "value of J with 100  iternation:  0.5937415640676837\n",
      "value of J with 200  iternation:  0.5576966544821872\n",
      "value of J with 300  iternation:  0.5542303701476634\n",
      "value of J with 400  iternation:  0.5387663678143885\n",
      "value of J with 500  iternation:  0.5238241728810065\n",
      "value of J with 600  iternation:  0.4533421138146673\n",
      "value of J with 700  iternation:  0.49990185902844225\n",
      "value of J with 800  iternation:  0.4945824256208486\n",
      "value of J with 900  iternation:  0.5298294403644153\n",
      "value of J with 1000  iternation:  0.3986979935844228\n",
      "value of J with 1100  iternation:  0.4801203620420631\n",
      "value of J with 1200  iternation:  0.6271208828231751\n",
      "value of J with 1300  iternation:  0.6810975129064366\n",
      "value of J with 1400  iternation:  0.6232181746993019\n",
      "value of J with 1500  iternation:  0.4957291118825865\n",
      "value of J with 1600  iternation:  0.4325482466707553\n",
      "value of J with 1700  iternation:  0.4369642835455726\n",
      "value of J with 1800  iternation:  0.5007828140631656\n",
      "value of J with 1900  iternation:  0.38957872853962455\n",
      "value of J with 2000  iternation:  0.5156210465495003\n",
      "value of J with 2100  iternation:  0.3492342260443158\n",
      "value of J with 2200  iternation:  0.44774097650509603\n",
      "value of J with 2300  iternation:  0.656997749599056\n",
      "value of J with 2400  iternation:  0.35974795592465425\n"
     ]
    }
   ],
   "source": [
    "alpha = 0.05\n",
    "\n",
    "\n",
    "for i in range(0,2500):\n",
    " \n",
    "    z1 = np.dot(w1,train_set_x)+b1\n",
    "    a1 = relu(z1)\n",
    "    z2 = np.dot(w2.T, a1) + b2\n",
    "    a2 = sigmoid(z2)\n",
    "    cost = -1*(train_set_y*np.log(a2)+(1-train_set_y)*np.log(1-a2))\n",
    "    cost = np.sum(cost)/m\n",
    "    dz2 = a2 - train_set_y\n",
    "    \n",
    "    dw2 = (1/m)*np.dot(a1, dz2.T)\n",
    "    db2 = (1/m)*np.sum(dz2,axis=1, keepdims=True)\n",
    "    ## In the next line need to provide the derivative of the activation fn 1 used\n",
    "    \n",
    "    dz1 = np.dot(w2,dz2)*grad_relu(z1)\n",
    "    dw1 = (1/m)*np.dot(dz1, train_set_x.T)\n",
    "    db1 = (1/m)*np.sum(dz1, axis=1,keepdims=True)\n",
    "    \n",
    "    ## Now updating the parameters w1, w1, b1, b2\n",
    "    w2 = w2-alpha*dw2\n",
    "    b2 = b2-alpha*db2\n",
    "    w1 = w1-alpha*dw1\n",
    "    b1 = b1-alpha*db1\n",
    "    \n",
    "    if(i%100==0):\n",
    "        print(\"value of J with\",i, \" iternation: \", cost)"
   ]
  },
  {
   "cell_type": "code",
   "execution_count": 706,
   "metadata": {},
   "outputs": [],
   "source": [
    "## Defining a prediction fucntion\n",
    "\n",
    "def predict(w1,b1,w2,b2,X):\n",
    "    \n",
    "    z1 = np.dot(w1,X) + b1\n",
    "    a1 = tanh(z1)\n",
    "    z2 = np.dot(w2.T,a1) + b2\n",
    "    a2 = sigmoid(z2)\n",
    "    y = 0*(a2<=0.5)+1*(a2>0.5)\n",
    "    assert(y.shape == (1, X.shape[1]))\n",
    "    return y"
   ]
  },
  {
   "cell_type": "code",
   "execution_count": 707,
   "metadata": {},
   "outputs": [
    {
     "name": "stdout",
     "output_type": "stream",
     "text": [
      "train accuracy: 34.44976076555024 %\n"
     ]
    }
   ],
   "source": [
    "y_pred = predict(w1,b1,w2,b2, train_set_x)\n",
    "print(\"train accuracy: {} %\".format(100 - np.mean(np.abs(y_pred - train_set_y)) * 100))"
   ]
  },
  {
   "cell_type": "code",
   "execution_count": 708,
   "metadata": {},
   "outputs": [
    {
     "name": "stdout",
     "output_type": "stream",
     "text": [
      "train accuracy: 66.0 %\n"
     ]
    }
   ],
   "source": [
    "y_pred_test = predict(w1,b1,w2,b2, test_set_x)\n",
    "print(\"train accuracy: {} %\".format(100 - np.mean(np.abs(y_pred_test - test_set_y)) * 100))"
   ]
  },
  {
   "cell_type": "code",
   "execution_count": 682,
   "metadata": {},
   "outputs": [],
   "source": [
    "accuracy_train.append(\"train accuracy 6 layers iter=1500 relu:{} %\".format(100 - np.mean(np.abs(y_pred - train_set_y)) * 100))"
   ]
  },
  {
   "cell_type": "code",
   "execution_count": 683,
   "metadata": {},
   "outputs": [],
   "source": [
    "accuracy_test.append(\"test accuracy 6 layers iter=1500 relu: {} %\".format(100 - np.mean(np.abs(y_pred_test - test_set_y)) * 100))"
   ]
  },
  {
   "cell_type": "code",
   "execution_count": null,
   "metadata": {},
   "outputs": [],
   "source": []
  },
  {
   "cell_type": "code",
   "execution_count": 684,
   "metadata": {},
   "outputs": [
    {
     "data": {
      "text/plain": [
       "['train accuracy 4 layers:58.85167464114833 %',\n",
       " 'train accuracy 5 layers:59.33014354066985 %',\n",
       " 'train accuracy 8 layers:59.33014354066985 %',\n",
       " 'train accuracy 15 layers:55.02392344497608 %',\n",
       " 'train accuracy 10 layers l_rate = 0.008:58.85167464114833 %',\n",
       " 'train accuracy 5 layers iter=5000:64.59330143540669 %',\n",
       " 'train accuracy 6 layers iter=9000:68.89952153110048 %',\n",
       " 'train accuracy 6 layers iter=2500 leaky_relu:81.33971291866028 %',\n",
       " 'train accuracy 7 layers iter=2500 leaky_relu:81.33971291866028 %',\n",
       " 'train accuracy 6 layers iter=1500 relu:36.36363636363637 %']"
      ]
     },
     "execution_count": 684,
     "metadata": {},
     "output_type": "execute_result"
    }
   ],
   "source": [
    "accuracy_train"
   ]
  },
  {
   "cell_type": "code",
   "execution_count": 685,
   "metadata": {},
   "outputs": [
    {
     "data": {
      "text/plain": [
       "['test accuracy 4 layers: 66.0 %',\n",
       " 'test accuracy 5 layers: 66.0 %',\n",
       " 'test accuracy 8 layers: 66.0 %',\n",
       " 'test accuracy 15 layers: 66.0 %',\n",
       " 'test accuracy 10 layers l_rate = 0.008: 66.0 %',\n",
       " 'test accuracy 5 layers iter=5000: 66.0 %',\n",
       " 'test accuracy 6 layers iter=9000: 66.0 %',\n",
       " 'test accuracy 6 layers iter=2500 leaky_relu: 50.0 %',\n",
       " 'test accuracy 7 layers iter=2500 leaky_relu: 60.0 %',\n",
       " 'test accuracy 6 layers iter=1500 relu: 66.0 %']"
      ]
     },
     "execution_count": 685,
     "metadata": {},
     "output_type": "execute_result"
    }
   ],
   "source": [
    "accuracy_test"
   ]
  },
  {
   "cell_type": "code",
   "execution_count": null,
   "metadata": {},
   "outputs": [],
   "source": []
  },
  {
   "cell_type": "code",
   "execution_count": null,
   "metadata": {},
   "outputs": [],
   "source": []
  },
  {
   "cell_type": "code",
   "execution_count": null,
   "metadata": {},
   "outputs": [],
   "source": []
  },
  {
   "cell_type": "code",
   "execution_count": null,
   "metadata": {},
   "outputs": [],
   "source": [
    "alpha = 0.009\n",
    "\n",
    "\n",
    "for i in range(0,9000):\n",
    " \n",
    "    z1 = np.dot(w1,train_set_x)+b1\n",
    "    a1 = leaky_relu(z1)\n",
    "    z2 = np.dot(w2.T, a1) + b2\n",
    "    a2 = sigmoid(z2)\n",
    "    cost = -1*(train_set_y*np.log(a2)+(1-train_set_y)*np.log(1-a2))\n",
    "    cost = np.sum(cost)/m\n",
    "    dz2 = a2 - train_set_y\n",
    "    \n",
    "    dw2 = (1/m)*np.dot(a1, dz2.T)\n",
    "    db2 = (1/m)*np.sum(dz2,axis=1, keepdims=True)\n",
    "    ## In the next line need to provide the derivative of the activation fn 1 used\n",
    "    \n",
    "    dz1 = np.dot(w2,dz2)*(a1*(1-a1))\n",
    "    dw1 = (1/m)*np.dot(dz1, train_set_x.T)\n",
    "    db1 = (1/m)*np.sum(dz1, axis=1,keepdims=True)\n",
    "    \n",
    "    ## Now updating the parameters w1, w1, b1, b2\n",
    "    w2 = w2-alpha*dw2\n",
    "    b2 = b2-alpha*db2\n",
    "    w1 = w1-alpha*dw1\n",
    "    b1 = b1-alpha*db1\n",
    "    \n",
    "    if(i%100==0):\n",
    "        print(\"value of J with\",i, \" iternation: \", cost)"
   ]
  },
  {
   "cell_type": "code",
   "execution_count": null,
   "metadata": {},
   "outputs": [],
   "source": []
  },
  {
   "cell_type": "code",
   "execution_count": 330,
   "metadata": {},
   "outputs": [],
   "source": [
    "z1 = np.dot(w1,train_set_x)+b1\n",
    "a1 = tanh(z1)\n",
    "z2 = np.dot(w2.T, a1) + b2\n",
    "a2 = sigmoid(z2)\n",
    "a2.shape\n",
    "cost = -1*(train_set_y*np.log(a2)+(1-train_set_y)*np.log(1-a2))\n",
    "cost = np.sum(cost)/m\n",
    "dz2 = a2 - train_set_y"
   ]
  },
  {
   "cell_type": "code",
   "execution_count": null,
   "metadata": {},
   "outputs": [],
   "source": [
    "dw2 = np.zeros((4,1))\n",
    "dw2 = (1/m)*np.dot(a1, dz2.T)\n",
    "db2 = (1/m)*np.sum(dz2,axis=1, keepdims=True)\n"
   ]
  },
  {
   "cell_type": "code",
   "execution_count": null,
   "metadata": {},
   "outputs": [],
   "source": [
    "## Initializing w and b for layer 1\n",
    "w1 = np.random.randn(4,nx)*0.001\n",
    "b1 = np.zeros((4,1))\n",
    "## Initializing w2 and b2\n",
    "w2 = np.random.randn(4,1)*0.001\n",
    "b2 = 0"
   ]
  }
 ],
 "metadata": {
  "kernelspec": {
   "display_name": "Python 3",
   "language": "python",
   "name": "python3"
  },
  "language_info": {
   "codemirror_mode": {
    "name": "ipython",
    "version": 3
   },
   "file_extension": ".py",
   "mimetype": "text/x-python",
   "name": "python",
   "nbconvert_exporter": "python",
   "pygments_lexer": "ipython3",
   "version": "3.7.1"
  }
 },
 "nbformat": 4,
 "nbformat_minor": 2
}
